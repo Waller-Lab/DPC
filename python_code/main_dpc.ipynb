{
 "cells": [
  {
   "cell_type": "markdown",
   "metadata": {},
   "source": [
    "# Import Modules"
   ]
  },
  {
   "cell_type": "code",
   "execution_count": null,
   "metadata": {},
   "outputs": [],
   "source": [
    "%load_ext autoreload\n",
    "%autoreload 2\n",
    "%matplotlib notebook\n",
    "import numpy as np\n",
    "import matplotlib.pyplot as plt\n",
    "from os import listdir\n",
    "from skimage import io\n",
    "from mpl_toolkits.axes_grid1 import make_axes_locatable\n",
    "from dpc_algorithm import DPCSolver"
   ]
  },
  {
   "cell_type": "markdown",
   "metadata": {},
   "source": [
    "# Load DPC Measurements"
   ]
  },
  {
   "cell_type": "code",
   "execution_count": null,
   "metadata": {
    "scrolled": true
   },
   "outputs": [],
   "source": [
    "data_path  = \"../sample_data/\" #INSERT YOUR DATA PATH HERE\n",
    "image_list = listdir(data_path)\n",
    "image_list = [image_file for image_file in image_list if image_file.endswith(\".tif\")]\n",
    "dpc_images = np.array([io.imread(data_path+image_list[image_index]) for image_index in range(len(image_list))])"
   ]
  },
  {
   "cell_type": "code",
   "execution_count": null,
   "metadata": {},
   "outputs": [],
   "source": [
    "#plot first set of measured DPC measurements\n",
    "f, ax = plt.subplots(2, 2, sharex=True, sharey=True, figsize=(6, 6))\n",
    "for plot_index in range(4):\n",
    "    plot_row = plot_index//2\n",
    "    plot_col = np.mod(plot_index, 2)\n",
    "    ax[plot_row, plot_col].imshow(dpc_images[plot_index], cmap=\"gray\",\\\n",
    "                                  extent=[0, dpc_images[0].shape[-1], 0, dpc_images[0].shape[-2]])\n",
    "    ax[plot_row, plot_col].axis(\"off\")\n",
    "    ax[plot_row, plot_col].set_title(\"DPC {:02d}\".format(plot_index))"
   ]
  },
  {
   "cell_type": "markdown",
   "metadata": {},
   "source": [
    "# Set System Parameters"
   ]
  },
  {
   "cell_type": "code",
   "execution_count": null,
   "metadata": {},
   "outputs": [],
   "source": [
    "wavelength     =  0.514 #micron\n",
    "mag            =   40.0\n",
    "na             =   0.40 #numerical aperture\n",
    "na_in          =    0.0\n",
    "pixel_size_cam =    6.5 #pixel size of camera\n",
    "dpc_num        =      4 #number of DPC images captured for each absorption and phase frame\n",
    "pixel_size     = pixel_size_cam/mag\n",
    "rotation       = [0, 180, 90, 270] #degree"
   ]
  },
  {
   "cell_type": "markdown",
   "metadata": {},
   "source": [
    "# DPC Absorption and Phase Retrieval"
   ]
  },
  {
   "cell_type": "markdown",
   "metadata": {},
   "source": [
    "## Initialize DPC Solver"
   ]
  },
  {
   "cell_type": "code",
   "execution_count": null,
   "metadata": {},
   "outputs": [],
   "source": [
    "dpc_solver_obj = DPCSolver(dpc_images, wavelength, na, na_in, pixel_size, rotation, dpc_num=dpc_num)"
   ]
  },
  {
   "cell_type": "markdown",
   "metadata": {},
   "source": [
    "## Visualize Source Patterns "
   ]
  },
  {
   "cell_type": "code",
   "execution_count": null,
   "metadata": {},
   "outputs": [],
   "source": [
    "#plot the sources\n",
    "max_na_x = max(dpc_solver_obj.fxlin.real*dpc_solver_obj.wavelength/dpc_solver_obj.na)\n",
    "min_na_x = min(dpc_solver_obj.fxlin.real*dpc_solver_obj.wavelength/dpc_solver_obj.na)\n",
    "max_na_y = max(dpc_solver_obj.fylin.real*dpc_solver_obj.wavelength/dpc_solver_obj.na)\n",
    "min_na_y = min(dpc_solver_obj.fylin.real*dpc_solver_obj.wavelength/dpc_solver_obj.na)\n",
    "f, ax  = plt.subplots(2, 2, sharex=True, sharey=True, figsize=(6, 6))\n",
    "for plot_index, source in enumerate(list(dpc_solver_obj.source)):\n",
    "    plot_row = plot_index//2\n",
    "    plot_col = np.mod(plot_index, 2)\n",
    "    ax[plot_row, plot_col].imshow(np.fft.fftshift(dpc_solver_obj.source[plot_index]),\\\n",
    "                                  cmap='gray', clim=(0,1), extent=[min_na_x, max_na_x, min_na_y, max_na_y])\n",
    "    ax[plot_row, plot_col].axis(\"off\")\n",
    "    ax[plot_row, plot_col].set_title(\"DPC Source {:02d}\".format(plot_index))\n",
    "    ax[plot_row, plot_col].set_xlim(-1.2, 1.2)\n",
    "    ax[plot_row, plot_col].set_ylim(-1.2, 1.2)\n",
    "    ax[plot_row, plot_col].set_aspect(1)"
   ]
  },
  {
   "cell_type": "markdown",
   "metadata": {},
   "source": [
    "## Visualize Weak Object Transfer Functions"
   ]
  },
  {
   "cell_type": "code",
   "execution_count": null,
   "metadata": {
    "scrolled": false
   },
   "outputs": [],
   "source": [
    "#plot the transfer functions\n",
    "f, ax = plt.subplots(2, 4, sharex=True, sharey=True, figsize = (10, 4))\n",
    "for plot_index in range(ax.size):\n",
    "    plot_row = plot_index//4\n",
    "    plot_col = np.mod(plot_index, 4)\n",
    "    divider  = make_axes_locatable(ax[plot_row, plot_col])\n",
    "    cax      = divider.append_axes(\"right\", size=\"5%\", pad=0.05)\n",
    "    if plot_row == 0:\n",
    "        plot = ax[plot_row, plot_col].imshow(np.fft.fftshift(dpc_solver_obj.Hu[plot_col].real), cmap='jet',\\\n",
    "                                             extent=[min_na_x, max_na_x, min_na_y, max_na_y], clim=[-2., 2.])\n",
    "        ax[plot_row, plot_col].set_title(\"Absorptino WOTF {:02d}\".format(plot_col))\n",
    "        plt.colorbar(plot, cax=cax, ticks=[-2., 0, 2.])\n",
    "    else:\n",
    "        plot = ax[plot_row, plot_col].imshow(np.fft.fftshift(dpc_solver_obj.Hp[plot_col].imag), cmap='jet',\\\n",
    "                                             extent=[min_na_x, max_na_x, min_na_y, max_na_y], clim=[-.8, .8])\n",
    "        ax[plot_row, plot_col].set_title(\"Phase WOTF {:02d}\".format(plot_col))\n",
    "        plt.colorbar(plot, cax=cax, ticks=[-.8, 0, .8])\n",
    "    ax[plot_row, plot_col].set_xlim(-2.2, 2.2)\n",
    "    ax[plot_row, plot_col].set_ylim(-2.2, 2.2)\n",
    "    ax[plot_row, plot_col].axis(\"off\")\n",
    "    ax[plot_row, plot_col].set_aspect(1)"
   ]
  },
  {
   "cell_type": "markdown",
   "metadata": {},
   "source": [
    "## Solve DPC Least Squares Problem"
   ]
  },
  {
   "cell_type": "code",
   "execution_count": null,
   "metadata": {},
   "outputs": [],
   "source": [
    "#parameters for Tikhonov regurlarization [absorption, phase] ((need to tune this based on SNR)\n",
    "dpc_solver_obj.setTikhonovRegularization(reg_u = 1e-1, reg_p = 5e-3)\n",
    "dpc_result = dpc_solver_obj.solve()"
   ]
  },
  {
   "cell_type": "code",
   "execution_count": null,
   "metadata": {
    "scrolled": false
   },
   "outputs": [],
   "source": [
    "_, axes  = plt.subplots(1, 2, figsize=(10, 6), sharex=True, sharey=True)\n",
    "divider  = make_axes_locatable(axes[0])\n",
    "cax_1    = divider.append_axes(\"right\", size=\"5%\", pad=0.05)\n",
    "plot     = axes[0].imshow(dpc_result[0].real, clim=[-0.15, 0.02], cmap=\"gray\", extent=[0, dpc_result[0].shape[-1], 0, dpc_result[0].shape[-2]])\n",
    "axes[0].axis(\"off\")\n",
    "plt.colorbar(plot, cax=cax_1, ticks=[-0.15, 0.02])\n",
    "axes[0].set_title(\"Absorption\")\n",
    "divider  = make_axes_locatable(axes[1])\n",
    "cax_2    = divider.append_axes(\"right\", size=\"5%\", pad=0.05)\n",
    "plot     = axes[1].imshow(dpc_result[0].imag, clim=[-1.0, 3.0], cmap=\"gray\", extent=[0, dpc_result[0].shape[-1], 0, dpc_result[0].shape[-2]])\n",
    "axes[1].axis(\"off\")\n",
    "plt.colorbar(plot, cax=cax_2, ticks=[-1.0, 3.0])\n",
    "axes[1].set_title(\"Phase\")"
   ]
  }
 ],
 "metadata": {
  "kernelspec": {
   "display_name": "Python 3",
   "language": "python",
   "name": "python3"
  },
  "language_info": {
   "codemirror_mode": {
    "name": "ipython",
    "version": 3
   },
   "file_extension": ".py",
   "mimetype": "text/x-python",
   "name": "python",
   "nbconvert_exporter": "python",
   "pygments_lexer": "ipython3",
   "version": "3.6.0"
  }
 },
 "nbformat": 4,
 "nbformat_minor": 2
}
